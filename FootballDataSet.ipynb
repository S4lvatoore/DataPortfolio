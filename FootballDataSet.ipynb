{
 "cells": [
  {
   "cell_type": "markdown",
   "id": "6fa828b9-71c5-46fd-af86-586bed836a5d",
   "metadata": {},
   "source": [
    "# **Libraries**"
   ]
  },
  {
   "cell_type": "code",
   "execution_count": 214,
   "id": "435b958e-ae3e-4b59-9673-0bbea7c65c2e",
   "metadata": {},
   "outputs": [],
   "source": [
    "import numpy as np\n",
    "import pandas as pd\n",
    "import matplotlib as mpl\n",
    "import matplotlib.pyplot as plt\n",
    "import seaborn as sns"
   ]
  },
  {
   "cell_type": "markdown",
   "id": "d29872e1-1ac1-46fb-ac9b-dc0f7ec8548d",
   "metadata": {},
   "source": [
    "# **Import data from Csv**"
   ]
  },
  {
   "cell_type": "code",
   "execution_count": 3,
   "id": "4d098885-8546-4ea1-bc69-b42b675a1093",
   "metadata": {},
   "outputs": [],
   "source": [
    "csv_data = pd.read_csv('C:\\\\Users\\\\david.sladkov\\\\Desktop\\\\goalscorers.csv')"
   ]
  },
  {
   "cell_type": "code",
   "execution_count": 4,
   "id": "0586029d-c3f8-4735-bb61-d17a7e357316",
   "metadata": {
    "scrolled": true
   },
   "outputs": [
    {
     "data": {
      "text/html": [
       "<div>\n",
       "<style scoped>\n",
       "    .dataframe tbody tr th:only-of-type {\n",
       "        vertical-align: middle;\n",
       "    }\n",
       "\n",
       "    .dataframe tbody tr th {\n",
       "        vertical-align: top;\n",
       "    }\n",
       "\n",
       "    .dataframe thead th {\n",
       "        text-align: right;\n",
       "    }\n",
       "</style>\n",
       "<table border=\"1\" class=\"dataframe\">\n",
       "  <thead>\n",
       "    <tr style=\"text-align: right;\">\n",
       "      <th></th>\n",
       "      <th>date</th>\n",
       "      <th>home_team</th>\n",
       "      <th>away_team</th>\n",
       "      <th>team</th>\n",
       "      <th>scorer</th>\n",
       "      <th>minute</th>\n",
       "      <th>own_goal</th>\n",
       "      <th>penalty</th>\n",
       "    </tr>\n",
       "  </thead>\n",
       "  <tbody>\n",
       "    <tr>\n",
       "      <th>0</th>\n",
       "      <td>1916-07-02</td>\n",
       "      <td>Chile</td>\n",
       "      <td>Uruguay</td>\n",
       "      <td>Uruguay</td>\n",
       "      <td>José Piendibene</td>\n",
       "      <td>44.0</td>\n",
       "      <td>False</td>\n",
       "      <td>False</td>\n",
       "    </tr>\n",
       "    <tr>\n",
       "      <th>1</th>\n",
       "      <td>1916-07-02</td>\n",
       "      <td>Chile</td>\n",
       "      <td>Uruguay</td>\n",
       "      <td>Uruguay</td>\n",
       "      <td>Isabelino Gradín</td>\n",
       "      <td>55.0</td>\n",
       "      <td>False</td>\n",
       "      <td>False</td>\n",
       "    </tr>\n",
       "    <tr>\n",
       "      <th>2</th>\n",
       "      <td>1916-07-02</td>\n",
       "      <td>Chile</td>\n",
       "      <td>Uruguay</td>\n",
       "      <td>Uruguay</td>\n",
       "      <td>Isabelino Gradín</td>\n",
       "      <td>70.0</td>\n",
       "      <td>False</td>\n",
       "      <td>False</td>\n",
       "    </tr>\n",
       "    <tr>\n",
       "      <th>3</th>\n",
       "      <td>1916-07-02</td>\n",
       "      <td>Chile</td>\n",
       "      <td>Uruguay</td>\n",
       "      <td>Uruguay</td>\n",
       "      <td>José Piendibene</td>\n",
       "      <td>75.0</td>\n",
       "      <td>False</td>\n",
       "      <td>False</td>\n",
       "    </tr>\n",
       "    <tr>\n",
       "      <th>4</th>\n",
       "      <td>1916-07-06</td>\n",
       "      <td>Argentina</td>\n",
       "      <td>Chile</td>\n",
       "      <td>Argentina</td>\n",
       "      <td>Alberto Ohaco</td>\n",
       "      <td>2.0</td>\n",
       "      <td>False</td>\n",
       "      <td>False</td>\n",
       "    </tr>\n",
       "    <tr>\n",
       "      <th>...</th>\n",
       "      <td>...</td>\n",
       "      <td>...</td>\n",
       "      <td>...</td>\n",
       "      <td>...</td>\n",
       "      <td>...</td>\n",
       "      <td>...</td>\n",
       "      <td>...</td>\n",
       "      <td>...</td>\n",
       "    </tr>\n",
       "    <tr>\n",
       "      <th>44357</th>\n",
       "      <td>2024-07-13</td>\n",
       "      <td>Canada</td>\n",
       "      <td>Uruguay</td>\n",
       "      <td>Uruguay</td>\n",
       "      <td>Luis Suárez</td>\n",
       "      <td>90.0</td>\n",
       "      <td>False</td>\n",
       "      <td>False</td>\n",
       "    </tr>\n",
       "    <tr>\n",
       "      <th>44358</th>\n",
       "      <td>2024-07-14</td>\n",
       "      <td>Argentina</td>\n",
       "      <td>Colombia</td>\n",
       "      <td>Argentina</td>\n",
       "      <td>Lautaro Martínez</td>\n",
       "      <td>112.0</td>\n",
       "      <td>False</td>\n",
       "      <td>False</td>\n",
       "    </tr>\n",
       "    <tr>\n",
       "      <th>44359</th>\n",
       "      <td>2024-07-14</td>\n",
       "      <td>Spain</td>\n",
       "      <td>England</td>\n",
       "      <td>Spain</td>\n",
       "      <td>Nico Williams</td>\n",
       "      <td>47.0</td>\n",
       "      <td>False</td>\n",
       "      <td>False</td>\n",
       "    </tr>\n",
       "    <tr>\n",
       "      <th>44360</th>\n",
       "      <td>2024-07-14</td>\n",
       "      <td>Spain</td>\n",
       "      <td>England</td>\n",
       "      <td>England</td>\n",
       "      <td>Cole Palmer</td>\n",
       "      <td>73.0</td>\n",
       "      <td>False</td>\n",
       "      <td>False</td>\n",
       "    </tr>\n",
       "    <tr>\n",
       "      <th>44361</th>\n",
       "      <td>2024-07-14</td>\n",
       "      <td>Spain</td>\n",
       "      <td>England</td>\n",
       "      <td>Spain</td>\n",
       "      <td>Mikel Oyarzabal</td>\n",
       "      <td>86.0</td>\n",
       "      <td>False</td>\n",
       "      <td>False</td>\n",
       "    </tr>\n",
       "  </tbody>\n",
       "</table>\n",
       "<p>44362 rows × 8 columns</p>\n",
       "</div>"
      ],
      "text/plain": [
       "             date  home_team away_team       team            scorer  minute  \\\n",
       "0      1916-07-02      Chile   Uruguay    Uruguay   José Piendibene    44.0   \n",
       "1      1916-07-02      Chile   Uruguay    Uruguay  Isabelino Gradín    55.0   \n",
       "2      1916-07-02      Chile   Uruguay    Uruguay  Isabelino Gradín    70.0   \n",
       "3      1916-07-02      Chile   Uruguay    Uruguay   José Piendibene    75.0   \n",
       "4      1916-07-06  Argentina     Chile  Argentina     Alberto Ohaco     2.0   \n",
       "...           ...        ...       ...        ...               ...     ...   \n",
       "44357  2024-07-13     Canada   Uruguay    Uruguay       Luis Suárez    90.0   \n",
       "44358  2024-07-14  Argentina  Colombia  Argentina  Lautaro Martínez   112.0   \n",
       "44359  2024-07-14      Spain   England      Spain     Nico Williams    47.0   \n",
       "44360  2024-07-14      Spain   England    England       Cole Palmer    73.0   \n",
       "44361  2024-07-14      Spain   England      Spain   Mikel Oyarzabal    86.0   \n",
       "\n",
       "       own_goal  penalty  \n",
       "0         False    False  \n",
       "1         False    False  \n",
       "2         False    False  \n",
       "3         False    False  \n",
       "4         False    False  \n",
       "...         ...      ...  \n",
       "44357     False    False  \n",
       "44358     False    False  \n",
       "44359     False    False  \n",
       "44360     False    False  \n",
       "44361     False    False  \n",
       "\n",
       "[44362 rows x 8 columns]"
      ]
     },
     "execution_count": 4,
     "metadata": {},
     "output_type": "execute_result"
    }
   ],
   "source": [
    "csv_data"
   ]
  },
  {
   "cell_type": "code",
   "execution_count": 5,
   "id": "e65ea4e1-11cd-4ee2-a2c6-3c30f641acfa",
   "metadata": {
    "scrolled": true
   },
   "outputs": [
    {
     "data": {
      "text/html": [
       "<div>\n",
       "<style scoped>\n",
       "    .dataframe tbody tr th:only-of-type {\n",
       "        vertical-align: middle;\n",
       "    }\n",
       "\n",
       "    .dataframe tbody tr th {\n",
       "        vertical-align: top;\n",
       "    }\n",
       "\n",
       "    .dataframe thead th {\n",
       "        text-align: right;\n",
       "    }\n",
       "</style>\n",
       "<table border=\"1\" class=\"dataframe\">\n",
       "  <thead>\n",
       "    <tr style=\"text-align: right;\">\n",
       "      <th></th>\n",
       "      <th>date</th>\n",
       "      <th>home_team</th>\n",
       "      <th>away_team</th>\n",
       "      <th>team</th>\n",
       "      <th>scorer</th>\n",
       "      <th>minute</th>\n",
       "      <th>own_goal</th>\n",
       "      <th>penalty</th>\n",
       "    </tr>\n",
       "  </thead>\n",
       "  <tbody>\n",
       "    <tr>\n",
       "      <th>0</th>\n",
       "      <td>1916-07-02</td>\n",
       "      <td>Chile</td>\n",
       "      <td>Uruguay</td>\n",
       "      <td>Uruguay</td>\n",
       "      <td>José Piendibene</td>\n",
       "      <td>44.0</td>\n",
       "      <td>False</td>\n",
       "      <td>False</td>\n",
       "    </tr>\n",
       "    <tr>\n",
       "      <th>1</th>\n",
       "      <td>1916-07-02</td>\n",
       "      <td>Chile</td>\n",
       "      <td>Uruguay</td>\n",
       "      <td>Uruguay</td>\n",
       "      <td>Isabelino Gradín</td>\n",
       "      <td>55.0</td>\n",
       "      <td>False</td>\n",
       "      <td>False</td>\n",
       "    </tr>\n",
       "    <tr>\n",
       "      <th>2</th>\n",
       "      <td>1916-07-02</td>\n",
       "      <td>Chile</td>\n",
       "      <td>Uruguay</td>\n",
       "      <td>Uruguay</td>\n",
       "      <td>Isabelino Gradín</td>\n",
       "      <td>70.0</td>\n",
       "      <td>False</td>\n",
       "      <td>False</td>\n",
       "    </tr>\n",
       "    <tr>\n",
       "      <th>3</th>\n",
       "      <td>1916-07-02</td>\n",
       "      <td>Chile</td>\n",
       "      <td>Uruguay</td>\n",
       "      <td>Uruguay</td>\n",
       "      <td>José Piendibene</td>\n",
       "      <td>75.0</td>\n",
       "      <td>False</td>\n",
       "      <td>False</td>\n",
       "    </tr>\n",
       "    <tr>\n",
       "      <th>4</th>\n",
       "      <td>1916-07-06</td>\n",
       "      <td>Argentina</td>\n",
       "      <td>Chile</td>\n",
       "      <td>Argentina</td>\n",
       "      <td>Alberto Ohaco</td>\n",
       "      <td>2.0</td>\n",
       "      <td>False</td>\n",
       "      <td>False</td>\n",
       "    </tr>\n",
       "    <tr>\n",
       "      <th>5</th>\n",
       "      <td>1916-07-06</td>\n",
       "      <td>Argentina</td>\n",
       "      <td>Chile</td>\n",
       "      <td>Chile</td>\n",
       "      <td>Telésforo Báez</td>\n",
       "      <td>44.0</td>\n",
       "      <td>False</td>\n",
       "      <td>False</td>\n",
       "    </tr>\n",
       "    <tr>\n",
       "      <th>6</th>\n",
       "      <td>1916-07-06</td>\n",
       "      <td>Argentina</td>\n",
       "      <td>Chile</td>\n",
       "      <td>Argentina</td>\n",
       "      <td>Juan Domingo Brown</td>\n",
       "      <td>60.0</td>\n",
       "      <td>False</td>\n",
       "      <td>True</td>\n",
       "    </tr>\n",
       "    <tr>\n",
       "      <th>7</th>\n",
       "      <td>1916-07-06</td>\n",
       "      <td>Argentina</td>\n",
       "      <td>Chile</td>\n",
       "      <td>Argentina</td>\n",
       "      <td>Juan Domingo Brown</td>\n",
       "      <td>62.0</td>\n",
       "      <td>False</td>\n",
       "      <td>True</td>\n",
       "    </tr>\n",
       "    <tr>\n",
       "      <th>8</th>\n",
       "      <td>1916-07-06</td>\n",
       "      <td>Argentina</td>\n",
       "      <td>Chile</td>\n",
       "      <td>Argentina</td>\n",
       "      <td>Alberto Marcovecchio</td>\n",
       "      <td>67.0</td>\n",
       "      <td>False</td>\n",
       "      <td>False</td>\n",
       "    </tr>\n",
       "    <tr>\n",
       "      <th>9</th>\n",
       "      <td>1916-07-06</td>\n",
       "      <td>Argentina</td>\n",
       "      <td>Chile</td>\n",
       "      <td>Argentina</td>\n",
       "      <td>Alberto Ohaco</td>\n",
       "      <td>75.0</td>\n",
       "      <td>False</td>\n",
       "      <td>False</td>\n",
       "    </tr>\n",
       "  </tbody>\n",
       "</table>\n",
       "</div>"
      ],
      "text/plain": [
       "         date  home_team away_team       team                scorer  minute  \\\n",
       "0  1916-07-02      Chile   Uruguay    Uruguay       José Piendibene    44.0   \n",
       "1  1916-07-02      Chile   Uruguay    Uruguay      Isabelino Gradín    55.0   \n",
       "2  1916-07-02      Chile   Uruguay    Uruguay      Isabelino Gradín    70.0   \n",
       "3  1916-07-02      Chile   Uruguay    Uruguay       José Piendibene    75.0   \n",
       "4  1916-07-06  Argentina     Chile  Argentina         Alberto Ohaco     2.0   \n",
       "5  1916-07-06  Argentina     Chile      Chile        Telésforo Báez    44.0   \n",
       "6  1916-07-06  Argentina     Chile  Argentina    Juan Domingo Brown    60.0   \n",
       "7  1916-07-06  Argentina     Chile  Argentina    Juan Domingo Brown    62.0   \n",
       "8  1916-07-06  Argentina     Chile  Argentina  Alberto Marcovecchio    67.0   \n",
       "9  1916-07-06  Argentina     Chile  Argentina         Alberto Ohaco    75.0   \n",
       "\n",
       "   own_goal  penalty  \n",
       "0     False    False  \n",
       "1     False    False  \n",
       "2     False    False  \n",
       "3     False    False  \n",
       "4     False    False  \n",
       "5     False    False  \n",
       "6     False     True  \n",
       "7     False     True  \n",
       "8     False    False  \n",
       "9     False    False  "
      ]
     },
     "execution_count": 5,
     "metadata": {},
     "output_type": "execute_result"
    }
   ],
   "source": [
    "csv_data.head(10)"
   ]
  },
  {
   "cell_type": "code",
   "execution_count": 6,
   "id": "4c79987c-c43b-4880-898e-626883432eea",
   "metadata": {},
   "outputs": [
    {
     "name": "stdout",
     "output_type": "stream",
     "text": [
      "<class 'pandas.core.frame.DataFrame'>\n",
      "RangeIndex: 44362 entries, 0 to 44361\n",
      "Data columns (total 8 columns):\n",
      " #   Column     Non-Null Count  Dtype  \n",
      "---  ------     --------------  -----  \n",
      " 0   date       44362 non-null  object \n",
      " 1   home_team  44362 non-null  object \n",
      " 2   away_team  44362 non-null  object \n",
      " 3   team       44362 non-null  object \n",
      " 4   scorer     44313 non-null  object \n",
      " 5   minute     44103 non-null  float64\n",
      " 6   own_goal   44362 non-null  bool   \n",
      " 7   penalty    44362 non-null  bool   \n",
      "dtypes: bool(2), float64(1), object(5)\n",
      "memory usage: 2.1+ MB\n"
     ]
    }
   ],
   "source": [
    "csv_data.info()"
   ]
  },
  {
   "cell_type": "markdown",
   "id": "317d8edf-d835-4afa-90f4-05f83fa0a158",
   "metadata": {},
   "source": [
    "# **GOALS COUNT**"
   ]
  },
  {
   "cell_type": "code",
   "execution_count": 7,
   "id": "08c837e6-e011-49c0-af4b-51331bebc2f4",
   "metadata": {},
   "outputs": [],
   "source": [
    "goals_count = 0"
   ]
  },
  {
   "cell_type": "code",
   "execution_count": 11,
   "id": "a0a1388d-b50e-4a85-a3e5-075efeab3155",
   "metadata": {},
   "outputs": [],
   "source": [
    "for goal in csv_data.scorer:\n",
    "    goals_count+=1"
   ]
  },
  {
   "cell_type": "code",
   "execution_count": 12,
   "id": "c24e92fa-5ec4-40b3-9ebc-61ce04b6d6f3",
   "metadata": {},
   "outputs": [
    {
     "data": {
      "text/plain": [
       "44362"
      ]
     },
     "execution_count": 12,
     "metadata": {},
     "output_type": "execute_result"
    }
   ],
   "source": [
    "goals_count"
   ]
  },
  {
   "cell_type": "markdown",
   "id": "31802d03-2576-48b0-9966-b0fdfa9f45c0",
   "metadata": {},
   "source": [
    "# **TOP Goal-Scorers**"
   ]
  },
  {
   "cell_type": "code",
   "execution_count": 13,
   "id": "8c7a6476-8f56-4344-ae97-9dc9f13b08a2",
   "metadata": {},
   "outputs": [
    {
     "data": {
      "text/plain": [
       "<Figure size 1200x600 with 0 Axes>"
      ]
     },
     "execution_count": 13,
     "metadata": {},
     "output_type": "execute_result"
    },
    {
     "data": {
      "text/plain": [
       "<Figure size 1200x600 with 0 Axes>"
      ]
     },
     "metadata": {},
     "output_type": "display_data"
    }
   ],
   "source": [
    "plt.figure(figsize=(12,6))"
   ]
  },
  {
   "cell_type": "code",
   "execution_count": 41,
   "id": "cbdb6567-6be3-4c09-9ca1-9e52ead21317",
   "metadata": {},
   "outputs": [],
   "source": [
    "top_scorers = csv_data['scorer'].value_counts()"
   ]
  },
  {
   "cell_type": "code",
   "execution_count": 58,
   "id": "82774a58-7210-48a3-aa59-9f6cc45c28b8",
   "metadata": {
    "scrolled": true
   },
   "outputs": [
    {
     "data": {
      "text/plain": [
       "Text(0.5, 1.0, 'Top-Scorers')"
      ]
     },
     "execution_count": 58,
     "metadata": {},
     "output_type": "execute_result"
    },
    {
     "data": {
      "image/png": "[encoded data removed]",
      "text/plain": [
       "<Figure size 640x480 with 1 Axes>"
      ]
     },
     "metadata": {},
     "output_type": "display_data"
    }
   ],
   "source": [
    "top_scorers.groupby(['scorer'])['Goals'].sum().sort_values(ascending = False).head(10).plot(kind = 'barh')\n",
    "plt.xlabel('Goals')\n",
    "plt.ylabel('Scorers')\n",
    "plt.title('Top-Scorers')"
   ]
  },
  {
   "cell_type": "markdown",
   "id": "00379eff-dcd7-42c2-b692-9d1859648411",
   "metadata": {},
   "source": [
    "# **Top Own goal scorers**"
   ]
  },
  {
   "cell_type": "code",
   "execution_count": 69,
   "id": "785ca100-9e22-414a-8f9f-3d39d0b024e5",
   "metadata": {},
   "outputs": [],
   "source": [
    "\n",
    "scorer_own_goal = csv_data[['scorer', 'own_goal']]"
   ]
  },
  {
   "cell_type": "code",
   "execution_count": 70,
   "id": "48d3bcfa-88e7-457c-9a34-9145e75481fb",
   "metadata": {},
   "outputs": [
    {
     "data": {
      "text/html": [
       "<div>\n",
       "<style scoped>\n",
       "    .dataframe tbody tr th:only-of-type {\n",
       "        vertical-align: middle;\n",
       "    }\n",
       "\n",
       "    .dataframe tbody tr th {\n",
       "        vertical-align: top;\n",
       "    }\n",
       "\n",
       "    .dataframe thead th {\n",
       "        text-align: right;\n",
       "    }\n",
       "</style>\n",
       "<table border=\"1\" class=\"dataframe\">\n",
       "  <thead>\n",
       "    <tr style=\"text-align: right;\">\n",
       "      <th></th>\n",
       "      <th>scorer</th>\n",
       "      <th>own_goal</th>\n",
       "    </tr>\n",
       "  </thead>\n",
       "  <tbody>\n",
       "    <tr>\n",
       "      <th>0</th>\n",
       "      <td>José Piendibene</td>\n",
       "      <td>False</td>\n",
       "    </tr>\n",
       "    <tr>\n",
       "      <th>1</th>\n",
       "      <td>Isabelino Gradín</td>\n",
       "      <td>False</td>\n",
       "    </tr>\n",
       "    <tr>\n",
       "      <th>2</th>\n",
       "      <td>Isabelino Gradín</td>\n",
       "      <td>False</td>\n",
       "    </tr>\n",
       "    <tr>\n",
       "      <th>3</th>\n",
       "      <td>José Piendibene</td>\n",
       "      <td>False</td>\n",
       "    </tr>\n",
       "    <tr>\n",
       "      <th>4</th>\n",
       "      <td>Alberto Ohaco</td>\n",
       "      <td>False</td>\n",
       "    </tr>\n",
       "    <tr>\n",
       "      <th>...</th>\n",
       "      <td>...</td>\n",
       "      <td>...</td>\n",
       "    </tr>\n",
       "    <tr>\n",
       "      <th>44357</th>\n",
       "      <td>Luis Suárez</td>\n",
       "      <td>False</td>\n",
       "    </tr>\n",
       "    <tr>\n",
       "      <th>44358</th>\n",
       "      <td>Lautaro Martínez</td>\n",
       "      <td>False</td>\n",
       "    </tr>\n",
       "    <tr>\n",
       "      <th>44359</th>\n",
       "      <td>Nico Williams</td>\n",
       "      <td>False</td>\n",
       "    </tr>\n",
       "    <tr>\n",
       "      <th>44360</th>\n",
       "      <td>Cole Palmer</td>\n",
       "      <td>False</td>\n",
       "    </tr>\n",
       "    <tr>\n",
       "      <th>44361</th>\n",
       "      <td>Mikel Oyarzabal</td>\n",
       "      <td>False</td>\n",
       "    </tr>\n",
       "  </tbody>\n",
       "</table>\n",
       "<p>44362 rows × 2 columns</p>\n",
       "</div>"
      ],
      "text/plain": [
       "                 scorer  own_goal\n",
       "0       José Piendibene     False\n",
       "1      Isabelino Gradín     False\n",
       "2      Isabelino Gradín     False\n",
       "3       José Piendibene     False\n",
       "4         Alberto Ohaco     False\n",
       "...                 ...       ...\n",
       "44357       Luis Suárez     False\n",
       "44358  Lautaro Martínez     False\n",
       "44359     Nico Williams     False\n",
       "44360       Cole Palmer     False\n",
       "44361   Mikel Oyarzabal     False\n",
       "\n",
       "[44362 rows x 2 columns]"
      ]
     },
     "execution_count": 70,
     "metadata": {},
     "output_type": "execute_result"
    }
   ],
   "source": [
    "scorer_own_goal"
   ]
  },
  {
   "cell_type": "code",
   "execution_count": 71,
   "id": "506bd409-6096-4e58-8b6b-74698e6ad52a",
   "metadata": {},
   "outputs": [],
   "source": [
    "own_goals_count = csv_data[csv_data['own_goal'] == True]['scorer'].value_counts()"
   ]
  },
  {
   "cell_type": "code",
   "execution_count": 72,
   "id": "8a68559c-ce3f-4aaa-9766-d4b721c9b910",
   "metadata": {},
   "outputs": [],
   "source": [
    "own_goals_df = own_goals_count.reset_index()"
   ]
  },
  {
   "cell_type": "code",
   "execution_count": 78,
   "id": "e54573a5-90fb-4112-bf04-19a34b34c26c",
   "metadata": {},
   "outputs": [],
   "source": [
    "own_goals_df.columns = ['Scorer', 'Own_Goals']\n"
   ]
  },
  {
   "cell_type": "code",
   "execution_count": 84,
   "id": "6b459254-3a79-45dc-b56a-96ad80907bfe",
   "metadata": {},
   "outputs": [
    {
     "data": {
      "text/html": [
       "<div>\n",
       "<style scoped>\n",
       "    .dataframe tbody tr th:only-of-type {\n",
       "        vertical-align: middle;\n",
       "    }\n",
       "\n",
       "    .dataframe tbody tr th {\n",
       "        vertical-align: top;\n",
       "    }\n",
       "\n",
       "    .dataframe thead th {\n",
       "        text-align: right;\n",
       "    }\n",
       "</style>\n",
       "<table border=\"1\" class=\"dataframe\">\n",
       "  <thead>\n",
       "    <tr style=\"text-align: right;\">\n",
       "      <th></th>\n",
       "      <th>Scorer</th>\n",
       "      <th>Own_Goals</th>\n",
       "    </tr>\n",
       "  </thead>\n",
       "  <tbody>\n",
       "    <tr>\n",
       "      <th>0</th>\n",
       "      <td>Ragnar Klavan</td>\n",
       "      <td>3</td>\n",
       "    </tr>\n",
       "    <tr>\n",
       "      <th>1</th>\n",
       "      <td>José del Solar</td>\n",
       "      <td>3</td>\n",
       "    </tr>\n",
       "    <tr>\n",
       "      <th>2</th>\n",
       "      <td>Cristian Brolli</td>\n",
       "      <td>3</td>\n",
       "    </tr>\n",
       "    <tr>\n",
       "      <th>3</th>\n",
       "      <td>Ján Ďurica</td>\n",
       "      <td>3</td>\n",
       "    </tr>\n",
       "    <tr>\n",
       "      <th>4</th>\n",
       "      <td>Walid Abbas</td>\n",
       "      <td>3</td>\n",
       "    </tr>\n",
       "    <tr>\n",
       "      <th>5</th>\n",
       "      <td>Raio Piiroja</td>\n",
       "      <td>3</td>\n",
       "    </tr>\n",
       "    <tr>\n",
       "      <th>6</th>\n",
       "      <td>Gustavo Gómez</td>\n",
       "      <td>3</td>\n",
       "    </tr>\n",
       "    <tr>\n",
       "      <th>7</th>\n",
       "      <td>Rashad Sadygov</td>\n",
       "      <td>3</td>\n",
       "    </tr>\n",
       "    <tr>\n",
       "      <th>8</th>\n",
       "      <td>Roberto Ayala</td>\n",
       "      <td>3</td>\n",
       "    </tr>\n",
       "    <tr>\n",
       "      <th>9</th>\n",
       "      <td>Nayef Aguerd</td>\n",
       "      <td>2</td>\n",
       "    </tr>\n",
       "  </tbody>\n",
       "</table>\n",
       "</div>"
      ],
      "text/plain": [
       "            Scorer  Own_Goals\n",
       "0    Ragnar Klavan          3\n",
       "1   José del Solar          3\n",
       "2  Cristian Brolli          3\n",
       "3       Ján Ďurica          3\n",
       "4      Walid Abbas          3\n",
       "5     Raio Piiroja          3\n",
       "6    Gustavo Gómez          3\n",
       "7   Rashad Sadygov          3\n",
       "8    Roberto Ayala          3\n",
       "9     Nayef Aguerd          2"
      ]
     },
     "execution_count": 84,
     "metadata": {},
     "output_type": "execute_result"
    }
   ],
   "source": [
    "own_goals_df.head(10)"
   ]
  },
  {
   "cell_type": "code",
   "execution_count": 86,
   "id": "f8f57bb1-04c6-4dd4-af19-cf5084ce3825",
   "metadata": {},
   "outputs": [
    {
     "data": {
      "image/png": "[encoded data removed]",
      "text/plain": [
       "<Figure size 1200x600 with 1 Axes>"
      ]
     },
     "metadata": {},
     "output_type": "display_data"
    }
   ],
   "source": [
    "plt.figure(figsize = (12,6))\n",
    "plt.bar(own_goals_df.Scorer.head(10),own_goals_df.Own_Goals.head(10),color = \"blue\")\n",
    "plt.title(\"Own Goals\", fontsize=14)\n",
    "plt.xlabel(\"Names\", fontsize=12)\n",
    "plt.ylabel(\"Goals\", fontsize=12)\n",
    "plt.xticks(rotation=45)  \n",
    "plt.grid(axis='y', linestyle=\"--\", alpha=0.7) "
   ]
  },
  {
   "cell_type": "markdown",
   "id": "55358a50-eef0-4edb-a3e4-dad75e667576",
   "metadata": {},
   "source": [
    "# **Top penalty scorers**"
   ]
  },
  {
   "cell_type": "code",
   "execution_count": 89,
   "id": "888763a0-42e9-450d-b676-9f56fd963a01",
   "metadata": {},
   "outputs": [
    {
     "data": {
      "text/plain": [
       "scorer\n",
       "Harry Kane              20\n",
       "Cristiano Ronaldo       19\n",
       "Lionel Messi            14\n",
       "Hristo Stoichkov        13\n",
       "Robert Lewandowski      13\n",
       "                        ..\n",
       "Whayne Wilson            1\n",
       "Freddie Ljungberg        1\n",
       "Mohammad Al-Shalhoub     1\n",
       "Carlos Rivas             1\n",
       "Lucas Paquetá            1\n",
       "Name: count, Length: 1715, dtype: int64"
      ]
     },
     "execution_count": 89,
     "metadata": {},
     "output_type": "execute_result"
    }
   ],
   "source": [
    "top_scorers_via_penalty = csv_data[csv_data['penalty'] == True]['scorer'].value_counts()\n",
    "top_scorers_via_penalty\n"
   ]
  },
  {
   "cell_type": "code",
   "execution_count": 120,
   "id": "8e27a391-8384-443a-80f0-ffd81faf602f",
   "metadata": {},
   "outputs": [
    {
     "data": {
      "text/html": [
       "<div>\n",
       "<style scoped>\n",
       "    .dataframe tbody tr th:only-of-type {\n",
       "        vertical-align: middle;\n",
       "    }\n",
       "\n",
       "    .dataframe tbody tr th {\n",
       "        vertical-align: top;\n",
       "    }\n",
       "\n",
       "    .dataframe thead th {\n",
       "        text-align: right;\n",
       "    }\n",
       "</style>\n",
       "<table border=\"1\" class=\"dataframe\">\n",
       "  <thead>\n",
       "    <tr style=\"text-align: right;\">\n",
       "      <th></th>\n",
       "      <th>Scorer</th>\n",
       "      <th>count</th>\n",
       "      <th>Goals</th>\n",
       "    </tr>\n",
       "  </thead>\n",
       "  <tbody>\n",
       "    <tr>\n",
       "      <th>0</th>\n",
       "      <td>Harry Kane</td>\n",
       "      <td>20</td>\n",
       "      <td>20</td>\n",
       "    </tr>\n",
       "    <tr>\n",
       "      <th>1</th>\n",
       "      <td>Cristiano Ronaldo</td>\n",
       "      <td>19</td>\n",
       "      <td>19</td>\n",
       "    </tr>\n",
       "    <tr>\n",
       "      <th>2</th>\n",
       "      <td>Lionel Messi</td>\n",
       "      <td>14</td>\n",
       "      <td>14</td>\n",
       "    </tr>\n",
       "    <tr>\n",
       "      <th>3</th>\n",
       "      <td>Hristo Stoichkov</td>\n",
       "      <td>13</td>\n",
       "      <td>13</td>\n",
       "    </tr>\n",
       "    <tr>\n",
       "      <th>4</th>\n",
       "      <td>Robert Lewandowski</td>\n",
       "      <td>13</td>\n",
       "      <td>13</td>\n",
       "    </tr>\n",
       "  </tbody>\n",
       "</table>\n",
       "</div>"
      ],
      "text/plain": [
       "               Scorer  count  Goals\n",
       "0          Harry Kane     20     20\n",
       "1   Cristiano Ronaldo     19     19\n",
       "2        Lionel Messi     14     14\n",
       "3    Hristo Stoichkov     13     13\n",
       "4  Robert Lewandowski     13     13"
      ]
     },
     "execution_count": 120,
     "metadata": {},
     "output_type": "execute_result"
    }
   ],
   "source": [
    "top_scorers_via_penalty = top_scorers_via_penalty.reset_index()\n",
    "\n",
    "top_scorers_via_penalty.columns = [\"Scorer\", \"count\"]\n",
    "\n",
    "top_scorers_via_penalty[\"Goals\"] = top_scorers_via_penalty[\"count\"]\n",
    "\n",
    "top_scorers_via_penalty.head()"
   ]
  },
  {
   "cell_type": "code",
   "execution_count": 121,
   "id": "1af1c7dc-91d7-426f-bdd7-64eec72b5f7d",
   "metadata": {
    "scrolled": true
   },
   "outputs": [
    {
     "data": {
      "text/html": [
       "<div>\n",
       "<style scoped>\n",
       "    .dataframe tbody tr th:only-of-type {\n",
       "        vertical-align: middle;\n",
       "    }\n",
       "\n",
       "    .dataframe tbody tr th {\n",
       "        vertical-align: top;\n",
       "    }\n",
       "\n",
       "    .dataframe thead th {\n",
       "        text-align: right;\n",
       "    }\n",
       "</style>\n",
       "<table border=\"1\" class=\"dataframe\">\n",
       "  <thead>\n",
       "    <tr style=\"text-align: right;\">\n",
       "      <th></th>\n",
       "      <th>Scorer</th>\n",
       "      <th>Goals</th>\n",
       "    </tr>\n",
       "  </thead>\n",
       "  <tbody>\n",
       "    <tr>\n",
       "      <th>0</th>\n",
       "      <td>Harry Kane</td>\n",
       "      <td>20</td>\n",
       "    </tr>\n",
       "    <tr>\n",
       "      <th>1</th>\n",
       "      <td>Cristiano Ronaldo</td>\n",
       "      <td>19</td>\n",
       "    </tr>\n",
       "    <tr>\n",
       "      <th>2</th>\n",
       "      <td>Lionel Messi</td>\n",
       "      <td>14</td>\n",
       "    </tr>\n",
       "    <tr>\n",
       "      <th>3</th>\n",
       "      <td>Hristo Stoichkov</td>\n",
       "      <td>13</td>\n",
       "    </tr>\n",
       "    <tr>\n",
       "      <th>4</th>\n",
       "      <td>Robert Lewandowski</td>\n",
       "      <td>13</td>\n",
       "    </tr>\n",
       "    <tr>\n",
       "      <th>...</th>\n",
       "      <td>...</td>\n",
       "      <td>...</td>\n",
       "    </tr>\n",
       "    <tr>\n",
       "      <th>1710</th>\n",
       "      <td>Whayne Wilson</td>\n",
       "      <td>1</td>\n",
       "    </tr>\n",
       "    <tr>\n",
       "      <th>1711</th>\n",
       "      <td>Freddie Ljungberg</td>\n",
       "      <td>1</td>\n",
       "    </tr>\n",
       "    <tr>\n",
       "      <th>1712</th>\n",
       "      <td>Mohammad Al-Shalhoub</td>\n",
       "      <td>1</td>\n",
       "    </tr>\n",
       "    <tr>\n",
       "      <th>1713</th>\n",
       "      <td>Carlos Rivas</td>\n",
       "      <td>1</td>\n",
       "    </tr>\n",
       "    <tr>\n",
       "      <th>1714</th>\n",
       "      <td>Lucas Paquetá</td>\n",
       "      <td>1</td>\n",
       "    </tr>\n",
       "  </tbody>\n",
       "</table>\n",
       "<p>1715 rows × 2 columns</p>\n",
       "</div>"
      ],
      "text/plain": [
       "                    Scorer  Goals\n",
       "0               Harry Kane     20\n",
       "1        Cristiano Ronaldo     19\n",
       "2             Lionel Messi     14\n",
       "3         Hristo Stoichkov     13\n",
       "4       Robert Lewandowski     13\n",
       "...                    ...    ...\n",
       "1710         Whayne Wilson      1\n",
       "1711     Freddie Ljungberg      1\n",
       "1712  Mohammad Al-Shalhoub      1\n",
       "1713          Carlos Rivas      1\n",
       "1714         Lucas Paquetá      1\n",
       "\n",
       "[1715 rows x 2 columns]"
      ]
     },
     "execution_count": 121,
     "metadata": {},
     "output_type": "execute_result"
    }
   ],
   "source": [
    "top_scorers_via_penalty.drop(['count'],axis = 1)"
   ]
  },
  {
   "cell_type": "code",
   "execution_count": 124,
   "id": "5a09686e-035d-4bf7-8c5e-ec1362dfa0ae",
   "metadata": {},
   "outputs": [
    {
     "data": {
      "text/plain": [
       "Text(0.5, 1.0, 'Top penalty scorers')"
      ]
     },
     "execution_count": 124,
     "metadata": {},
     "output_type": "execute_result"
    },
    {
     "data": {
      "image/png": "[encoded data removed]",
      "text/plain": [
       "<Figure size 1200x600 with 1 Axes>"
      ]
     },
     "metadata": {},
     "output_type": "display_data"
    }
   ],
   "source": [
    "plt.figure(figsize = (12,6))\n",
    "plt.barh(top_scorers_via_penalty.Scorer.head(10),top_scorers_via_penalty.Goals.head(10),color = 'red')\n",
    "plt.xlabel('Penalty Goals')\n",
    "plt.ylabel('Scorers')\n",
    "plt.title('Top penalty scorers')"
   ]
  },
  {
   "cell_type": "markdown",
   "id": "6c703b98-6d10-4e37-be83-2dfbe8cf48ea",
   "metadata": {},
   "source": [
    "# **Top teams Goals**"
   ]
  },
  {
   "cell_type": "code",
   "execution_count": 156,
   "id": "fad8adc2-7ac7-47f9-9103-9ed81891362d",
   "metadata": {},
   "outputs": [],
   "source": [
    "top_team_goals = csv_data['team'].value_counts()\n"
   ]
  },
  {
   "cell_type": "code",
   "execution_count": 157,
   "id": "34f1d9e9-163d-484a-848f-ae38ebca6920",
   "metadata": {},
   "outputs": [
    {
     "data": {
      "text/plain": [
       "team\n",
       "Brazil           1051\n",
       "Germany           974\n",
       "Argentina         948\n",
       "Spain             894\n",
       "Mexico            852\n",
       "                 ... \n",
       "Eritrea             4\n",
       "Somalia             3\n",
       "Anguilla            2\n",
       "South Sudan         2\n",
       "French Guiana       2\n",
       "Name: count, Length: 220, dtype: int64"
      ]
     },
     "execution_count": 157,
     "metadata": {},
     "output_type": "execute_result"
    }
   ],
   "source": [
    "top_team_goals"
   ]
  },
  {
   "cell_type": "code",
   "execution_count": 158,
   "id": "8e09a8f7-6523-4c6a-9688-df6ed0572682",
   "metadata": {},
   "outputs": [],
   "source": [
    "top_team_goals = top_team_goals.reset_index()"
   ]
  },
  {
   "cell_type": "code",
   "execution_count": 159,
   "id": "3323e0a8-f25b-46e2-9efb-ccafb1e38683",
   "metadata": {},
   "outputs": [
    {
     "data": {
      "text/html": [
       "<div>\n",
       "<style scoped>\n",
       "    .dataframe tbody tr th:only-of-type {\n",
       "        vertical-align: middle;\n",
       "    }\n",
       "\n",
       "    .dataframe tbody tr th {\n",
       "        vertical-align: top;\n",
       "    }\n",
       "\n",
       "    .dataframe thead th {\n",
       "        text-align: right;\n",
       "    }\n",
       "</style>\n",
       "<table border=\"1\" class=\"dataframe\">\n",
       "  <thead>\n",
       "    <tr style=\"text-align: right;\">\n",
       "      <th></th>\n",
       "      <th>team</th>\n",
       "      <th>count</th>\n",
       "    </tr>\n",
       "  </thead>\n",
       "  <tbody>\n",
       "    <tr>\n",
       "      <th>0</th>\n",
       "      <td>Brazil</td>\n",
       "      <td>1051</td>\n",
       "    </tr>\n",
       "    <tr>\n",
       "      <th>1</th>\n",
       "      <td>Germany</td>\n",
       "      <td>974</td>\n",
       "    </tr>\n",
       "    <tr>\n",
       "      <th>2</th>\n",
       "      <td>Argentina</td>\n",
       "      <td>948</td>\n",
       "    </tr>\n",
       "    <tr>\n",
       "      <th>3</th>\n",
       "      <td>Spain</td>\n",
       "      <td>894</td>\n",
       "    </tr>\n",
       "    <tr>\n",
       "      <th>4</th>\n",
       "      <td>Mexico</td>\n",
       "      <td>852</td>\n",
       "    </tr>\n",
       "    <tr>\n",
       "      <th>...</th>\n",
       "      <td>...</td>\n",
       "      <td>...</td>\n",
       "    </tr>\n",
       "    <tr>\n",
       "      <th>215</th>\n",
       "      <td>Eritrea</td>\n",
       "      <td>4</td>\n",
       "    </tr>\n",
       "    <tr>\n",
       "      <th>216</th>\n",
       "      <td>Somalia</td>\n",
       "      <td>3</td>\n",
       "    </tr>\n",
       "    <tr>\n",
       "      <th>217</th>\n",
       "      <td>Anguilla</td>\n",
       "      <td>2</td>\n",
       "    </tr>\n",
       "    <tr>\n",
       "      <th>218</th>\n",
       "      <td>South Sudan</td>\n",
       "      <td>2</td>\n",
       "    </tr>\n",
       "    <tr>\n",
       "      <th>219</th>\n",
       "      <td>French Guiana</td>\n",
       "      <td>2</td>\n",
       "    </tr>\n",
       "  </tbody>\n",
       "</table>\n",
       "<p>220 rows × 2 columns</p>\n",
       "</div>"
      ],
      "text/plain": [
       "              team  count\n",
       "0           Brazil   1051\n",
       "1          Germany    974\n",
       "2        Argentina    948\n",
       "3            Spain    894\n",
       "4           Mexico    852\n",
       "..             ...    ...\n",
       "215        Eritrea      4\n",
       "216        Somalia      3\n",
       "217       Anguilla      2\n",
       "218    South Sudan      2\n",
       "219  French Guiana      2\n",
       "\n",
       "[220 rows x 2 columns]"
      ]
     },
     "execution_count": 159,
     "metadata": {},
     "output_type": "execute_result"
    }
   ],
   "source": [
    "top_team_goals"
   ]
  },
  {
   "cell_type": "code",
   "execution_count": 145,
   "id": "44a738d0-abbe-4756-a947-b02f3efcb627",
   "metadata": {},
   "outputs": [],
   "source": [
    "\n",
    "top_team_goals.drop(['index','level_0','Goals'],axis = 1 ,inplace=True)\n"
   ]
  },
  {
   "cell_type": "code",
   "execution_count": 162,
   "id": "ea77ea0d-bc0e-47c7-ac9d-fa7a17c7f51e",
   "metadata": {},
   "outputs": [
    {
     "data": {
      "text/html": [
       "<div>\n",
       "<style scoped>\n",
       "    .dataframe tbody tr th:only-of-type {\n",
       "        vertical-align: middle;\n",
       "    }\n",
       "\n",
       "    .dataframe tbody tr th {\n",
       "        vertical-align: top;\n",
       "    }\n",
       "\n",
       "    .dataframe thead th {\n",
       "        text-align: right;\n",
       "    }\n",
       "</style>\n",
       "<table border=\"1\" class=\"dataframe\">\n",
       "  <thead>\n",
       "    <tr style=\"text-align: right;\">\n",
       "      <th></th>\n",
       "      <th>team</th>\n",
       "      <th>count</th>\n",
       "      <th>Goals</th>\n",
       "    </tr>\n",
       "  </thead>\n",
       "  <tbody>\n",
       "    <tr>\n",
       "      <th>0</th>\n",
       "      <td>Brazil</td>\n",
       "      <td>1051</td>\n",
       "      <td>1051</td>\n",
       "    </tr>\n",
       "    <tr>\n",
       "      <th>1</th>\n",
       "      <td>Germany</td>\n",
       "      <td>974</td>\n",
       "      <td>974</td>\n",
       "    </tr>\n",
       "    <tr>\n",
       "      <th>2</th>\n",
       "      <td>Argentina</td>\n",
       "      <td>948</td>\n",
       "      <td>948</td>\n",
       "    </tr>\n",
       "    <tr>\n",
       "      <th>3</th>\n",
       "      <td>Spain</td>\n",
       "      <td>894</td>\n",
       "      <td>894</td>\n",
       "    </tr>\n",
       "    <tr>\n",
       "      <th>4</th>\n",
       "      <td>Mexico</td>\n",
       "      <td>852</td>\n",
       "      <td>852</td>\n",
       "    </tr>\n",
       "  </tbody>\n",
       "</table>\n",
       "</div>"
      ],
      "text/plain": [
       "        team  count  Goals\n",
       "0     Brazil   1051   1051\n",
       "1    Germany    974    974\n",
       "2  Argentina    948    948\n",
       "3      Spain    894    894\n",
       "4     Mexico    852    852"
      ]
     },
     "execution_count": 162,
     "metadata": {},
     "output_type": "execute_result"
    }
   ],
   "source": [
    "top_team_goals[\"Goals\"] = top_team_goals[\"count\"]\n",
    "top_team_goals.head()"
   ]
  },
  {
   "cell_type": "code",
   "execution_count": 163,
   "id": "a83b9f85-8693-40ab-9bbf-07d674a8f481",
   "metadata": {},
   "outputs": [],
   "source": [
    "top_team_goals.drop(['count'],axis = 1 ,inplace=True)"
   ]
  },
  {
   "cell_type": "code",
   "execution_count": 167,
   "id": "d365c1e4-278e-463e-859a-3fa8f5bc8f2d",
   "metadata": {},
   "outputs": [
    {
     "data": {
      "text/html": [
       "<div>\n",
       "<style scoped>\n",
       "    .dataframe tbody tr th:only-of-type {\n",
       "        vertical-align: middle;\n",
       "    }\n",
       "\n",
       "    .dataframe tbody tr th {\n",
       "        vertical-align: top;\n",
       "    }\n",
       "\n",
       "    .dataframe thead th {\n",
       "        text-align: right;\n",
       "    }\n",
       "</style>\n",
       "<table border=\"1\" class=\"dataframe\">\n",
       "  <thead>\n",
       "    <tr style=\"text-align: right;\">\n",
       "      <th></th>\n",
       "      <th>team</th>\n",
       "      <th>Goals</th>\n",
       "    </tr>\n",
       "  </thead>\n",
       "  <tbody>\n",
       "    <tr>\n",
       "      <th>0</th>\n",
       "      <td>Brazil</td>\n",
       "      <td>1051</td>\n",
       "    </tr>\n",
       "    <tr>\n",
       "      <th>1</th>\n",
       "      <td>Germany</td>\n",
       "      <td>974</td>\n",
       "    </tr>\n",
       "    <tr>\n",
       "      <th>2</th>\n",
       "      <td>Argentina</td>\n",
       "      <td>948</td>\n",
       "    </tr>\n",
       "    <tr>\n",
       "      <th>3</th>\n",
       "      <td>Spain</td>\n",
       "      <td>894</td>\n",
       "    </tr>\n",
       "    <tr>\n",
       "      <th>4</th>\n",
       "      <td>Mexico</td>\n",
       "      <td>852</td>\n",
       "    </tr>\n",
       "  </tbody>\n",
       "</table>\n",
       "</div>"
      ],
      "text/plain": [
       "        team  Goals\n",
       "0     Brazil   1051\n",
       "1    Germany    974\n",
       "2  Argentina    948\n",
       "3      Spain    894\n",
       "4     Mexico    852"
      ]
     },
     "execution_count": 167,
     "metadata": {},
     "output_type": "execute_result"
    }
   ],
   "source": [
    "top_team_goals.head()"
   ]
  },
  {
   "cell_type": "code",
   "execution_count": 166,
   "id": "09bf5371-6527-4b69-9476-921421f5d5e4",
   "metadata": {},
   "outputs": [
    {
     "data": {
      "text/plain": [
       "Text(0.5, 1.0, 'Top Team scorers')"
      ]
     },
     "execution_count": 166,
     "metadata": {},
     "output_type": "execute_result"
    },
    {
     "data": {
      "image/png": "[encoded data removed]",
      "text/plain": [
       "<Figure size 1200x600 with 1 Axes>"
      ]
     },
     "metadata": {},
     "output_type": "display_data"
    }
   ],
   "source": [
    "plt.figure(figsize = (12,6))\n",
    "plt.barh(top_team_goals.team.head(10),top_team_goals.Goals.head(10),color = 'red')\n",
    "plt.xlabel('Goals')\n",
    "plt.ylabel('Scorer Team')\n",
    "plt.title('Top Team scorers')"
   ]
  },
  {
   "cell_type": "markdown",
   "id": "fae49f63-1f66-4164-8e55-9b4b047c21af",
   "metadata": {},
   "source": [
    "# **Top goals in a day**"
   ]
  },
  {
   "cell_type": "code",
   "execution_count": 170,
   "id": "c10b6b59-d637-42ee-b7d8-8f3c8c00d152",
   "metadata": {},
   "outputs": [],
   "source": [
    "top_day_goals = csv_data['date'].value_counts()"
   ]
  },
  {
   "cell_type": "code",
   "execution_count": 171,
   "id": "f2bc3827-9b35-4d62-819b-b8dfe8df6018",
   "metadata": {},
   "outputs": [
    {
     "data": {
      "text/plain": [
       "date\n",
       "2011-10-11    145\n",
       "2008-10-11    136\n",
       "2008-09-06    135\n",
       "2004-09-08    132\n",
       "2004-10-13    128\n",
       "             ... \n",
       "1994-11-15      1\n",
       "2007-11-16      1\n",
       "1964-10-14      1\n",
       "1964-11-11      1\n",
       "1989-11-17      1\n",
       "Name: count, Length: 4632, dtype: int64"
      ]
     },
     "execution_count": 171,
     "metadata": {},
     "output_type": "execute_result"
    }
   ],
   "source": [
    "top_day_goals"
   ]
  },
  {
   "cell_type": "code",
   "execution_count": 197,
   "id": "010ec492-82b5-4ee3-94e8-0a7c3f2a3429",
   "metadata": {},
   "outputs": [],
   "source": [
    "date_goals = csv_data.groupby(\"date\")[\"team\"].value_counts()\n",
    "date_goals = date_goals.reset_index()\n",
    "date_goals[\"goals\"] = date_goals['count']\n",
    "date_goals.drop('count',axis = 1,inplace = True)"
   ]
  },
  {
   "cell_type": "code",
   "execution_count": 205,
   "id": "91332c37-6ca6-4f37-98c4-b213109c69e0",
   "metadata": {},
   "outputs": [],
   "source": [
    "date_goals = date_goals.sort_values(by=\"goals\", ascending=False)"
   ]
  },
  {
   "cell_type": "code",
   "execution_count": 206,
   "id": "8f50e303-4329-4548-900b-ed8974299649",
   "metadata": {},
   "outputs": [
    {
     "data": {
      "text/html": [
       "<div>\n",
       "<style scoped>\n",
       "    .dataframe tbody tr th:only-of-type {\n",
       "        vertical-align: middle;\n",
       "    }\n",
       "\n",
       "    .dataframe tbody tr th {\n",
       "        vertical-align: top;\n",
       "    }\n",
       "\n",
       "    .dataframe thead th {\n",
       "        text-align: right;\n",
       "    }\n",
       "</style>\n",
       "<table border=\"1\" class=\"dataframe\">\n",
       "  <thead>\n",
       "    <tr style=\"text-align: right;\">\n",
       "      <th></th>\n",
       "      <th>date</th>\n",
       "      <th>team</th>\n",
       "      <th>goals</th>\n",
       "    </tr>\n",
       "  </thead>\n",
       "  <tbody>\n",
       "    <tr>\n",
       "      <th>9589</th>\n",
       "      <td>2001-04-11</td>\n",
       "      <td>Australia</td>\n",
       "      <td>31</td>\n",
       "    </tr>\n",
       "    <tr>\n",
       "      <th>9587</th>\n",
       "      <td>2001-04-09</td>\n",
       "      <td>Australia</td>\n",
       "      <td>22</td>\n",
       "    </tr>\n",
       "    <tr>\n",
       "      <th>9416</th>\n",
       "      <td>2000-11-24</td>\n",
       "      <td>Iran</td>\n",
       "      <td>19</td>\n",
       "    </tr>\n",
       "    <tr>\n",
       "      <th>7958</th>\n",
       "      <td>1997-06-02</td>\n",
       "      <td>Iran</td>\n",
       "      <td>17</td>\n",
       "    </tr>\n",
       "    <tr>\n",
       "      <th>9159</th>\n",
       "      <td>2000-06-19</td>\n",
       "      <td>Australia</td>\n",
       "      <td>17</td>\n",
       "    </tr>\n",
       "    <tr>\n",
       "      <th>...</th>\n",
       "      <td>...</td>\n",
       "      <td>...</td>\n",
       "      <td>...</td>\n",
       "    </tr>\n",
       "    <tr>\n",
       "      <th>13581</th>\n",
       "      <td>2009-06-15</td>\n",
       "      <td>United States</td>\n",
       "      <td>1</td>\n",
       "    </tr>\n",
       "    <tr>\n",
       "      <th>13584</th>\n",
       "      <td>2009-06-17</td>\n",
       "      <td>Bahrain</td>\n",
       "      <td>1</td>\n",
       "    </tr>\n",
       "    <tr>\n",
       "      <th>13585</th>\n",
       "      <td>2009-06-17</td>\n",
       "      <td>Iran</td>\n",
       "      <td>1</td>\n",
       "    </tr>\n",
       "    <tr>\n",
       "      <th>13586</th>\n",
       "      <td>2009-06-17</td>\n",
       "      <td>Japan</td>\n",
       "      <td>1</td>\n",
       "    </tr>\n",
       "    <tr>\n",
       "      <th>21112</th>\n",
       "      <td>2024-07-14</td>\n",
       "      <td>England</td>\n",
       "      <td>1</td>\n",
       "    </tr>\n",
       "  </tbody>\n",
       "</table>\n",
       "<p>21113 rows × 3 columns</p>\n",
       "</div>"
      ],
      "text/plain": [
       "             date           team  goals\n",
       "9589   2001-04-11      Australia     31\n",
       "9587   2001-04-09      Australia     22\n",
       "9416   2000-11-24           Iran     19\n",
       "7958   1997-06-02           Iran     17\n",
       "9159   2000-06-19      Australia     17\n",
       "...           ...            ...    ...\n",
       "13581  2009-06-15  United States      1\n",
       "13584  2009-06-17        Bahrain      1\n",
       "13585  2009-06-17           Iran      1\n",
       "13586  2009-06-17          Japan      1\n",
       "21112  2024-07-14        England      1\n",
       "\n",
       "[21113 rows x 3 columns]"
      ]
     },
     "execution_count": 206,
     "metadata": {},
     "output_type": "execute_result"
    }
   ],
   "source": [
    "date_goals"
   ]
  },
  {
   "cell_type": "code",
   "execution_count": null,
   "id": "9d56d405-70b9-452c-acdd-1bb94d6d6174",
   "metadata": {},
   "outputs": [],
   "source": [
    "date_goals.drop('count',axis = 1,inplace = True)"
   ]
  },
  {
   "cell_type": "code",
   "execution_count": 200,
   "id": "229ad250-5d19-4bb7-af6c-e687021ae6df",
   "metadata": {},
   "outputs": [],
   "source": [
    "import seaborn as sns\n"
   ]
  },
  {
   "cell_type": "code",
   "execution_count": 215,
   "id": "c45f575e-ee3d-4bf5-b6b6-d08e0e58db96",
   "metadata": {},
   "outputs": [
    {
     "data": {
      "image/png": "[encoded data removed]",
      "text/plain": [
       "<Figure size 1200x600 with 1 Axes>"
      ]
     },
     "metadata": {},
     "output_type": "display_data"
    }
   ],
   "source": [
    "plt.figure(figsize=(12,6))\n",
    "sns.barplot(data=date_goals.head(10), x=\"date\", y=\"goals\", hue=\"team\")\n",
    "plt.xticks(rotation=90)\n",
    "plt.xlabel(\"Date\")\n",
    "plt.ylabel(\"Goals\")\n",
    "plt.title(\"Goals by date\")\n",
    "plt.legend(title=\"Teams\")\n",
    "plt.show()\n"
   ]
  },
  {
   "cell_type": "markdown",
   "id": "6d3311cd-0313-4a19-9772-19e035b20ecf",
   "metadata": {},
   "source": [
    "# **TOP MINUTE GOAL**"
   ]
  },
  {
   "cell_type": "code",
   "execution_count": 258,
   "id": "6f218ade-7769-426a-9ead-5c43001d3df4",
   "metadata": {},
   "outputs": [],
   "source": [
    "top_minute = csv_data.groupby('minute')['team'].value_counts()"
   ]
  },
  {
   "cell_type": "code",
   "execution_count": 259,
   "id": "925c77c2-efd1-4036-8c2a-9eda412f1e7f",
   "metadata": {},
   "outputs": [
    {
     "data": {
      "text/plain": [
       "minute  team       \n",
       "1.0     Argentina       8\n",
       "        Uruguay         8\n",
       "        Brazil          7\n",
       "        England         6\n",
       "        Netherlands     6\n",
       "                       ..\n",
       "        Venezuela       1\n",
       "        Zambia          1\n",
       "2.0     Argentina      11\n",
       "        Brazil          9\n",
       "        Denmark         8\n",
       "Name: count, Length: 100, dtype: int64"
      ]
     },
     "execution_count": 259,
     "metadata": {},
     "output_type": "execute_result"
    }
   ],
   "source": [
    "top_minute.head(100)"
   ]
  },
  {
   "cell_type": "code",
   "execution_count": 260,
   "id": "2155aa4d-3b99-463d-b59f-be230774bf2e",
   "metadata": {},
   "outputs": [],
   "source": [
    "top_minute = top_minute.reset_index()"
   ]
  },
  {
   "cell_type": "code",
   "execution_count": 262,
   "id": "41dd0319-2570-43b8-a2cb-6c440d4790ae",
   "metadata": {},
   "outputs": [],
   "source": [
    "top_minute['goals'] = top_minute['count']"
   ]
  },
  {
   "cell_type": "code",
   "execution_count": 264,
   "id": "ecf693f3-acba-4d09-835a-11bb94c0192d",
   "metadata": {},
   "outputs": [],
   "source": [
    "top_minute.drop('count',axis = 1,inplace = True)"
   ]
  },
  {
   "cell_type": "code",
   "execution_count": 265,
   "id": "cc04a197-7f38-43b6-9fd3-e3143a71463e",
   "metadata": {},
   "outputs": [
    {
     "data": {
      "text/html": [
       "<div>\n",
       "<style scoped>\n",
       "    .dataframe tbody tr th:only-of-type {\n",
       "        vertical-align: middle;\n",
       "    }\n",
       "\n",
       "    .dataframe tbody tr th {\n",
       "        vertical-align: top;\n",
       "    }\n",
       "\n",
       "    .dataframe thead th {\n",
       "        text-align: right;\n",
       "    }\n",
       "</style>\n",
       "<table border=\"1\" class=\"dataframe\">\n",
       "  <thead>\n",
       "    <tr style=\"text-align: right;\">\n",
       "      <th></th>\n",
       "      <th>minute</th>\n",
       "      <th>team</th>\n",
       "      <th>goals</th>\n",
       "    </tr>\n",
       "  </thead>\n",
       "  <tbody>\n",
       "    <tr>\n",
       "      <th>0</th>\n",
       "      <td>1.0</td>\n",
       "      <td>Argentina</td>\n",
       "      <td>8</td>\n",
       "    </tr>\n",
       "    <tr>\n",
       "      <th>1</th>\n",
       "      <td>1.0</td>\n",
       "      <td>Uruguay</td>\n",
       "      <td>8</td>\n",
       "    </tr>\n",
       "    <tr>\n",
       "      <th>2</th>\n",
       "      <td>1.0</td>\n",
       "      <td>Brazil</td>\n",
       "      <td>7</td>\n",
       "    </tr>\n",
       "    <tr>\n",
       "      <th>3</th>\n",
       "      <td>1.0</td>\n",
       "      <td>England</td>\n",
       "      <td>6</td>\n",
       "    </tr>\n",
       "    <tr>\n",
       "      <th>4</th>\n",
       "      <td>1.0</td>\n",
       "      <td>Netherlands</td>\n",
       "      <td>6</td>\n",
       "    </tr>\n",
       "    <tr>\n",
       "      <th>...</th>\n",
       "      <td>...</td>\n",
       "      <td>...</td>\n",
       "      <td>...</td>\n",
       "    </tr>\n",
       "    <tr>\n",
       "      <th>12564</th>\n",
       "      <td>120.0</td>\n",
       "      <td>South Korea</td>\n",
       "      <td>1</td>\n",
       "    </tr>\n",
       "    <tr>\n",
       "      <th>12565</th>\n",
       "      <td>120.0</td>\n",
       "      <td>Turkey</td>\n",
       "      <td>1</td>\n",
       "    </tr>\n",
       "    <tr>\n",
       "      <th>12566</th>\n",
       "      <td>120.0</td>\n",
       "      <td>Ukraine</td>\n",
       "      <td>1</td>\n",
       "    </tr>\n",
       "    <tr>\n",
       "      <th>12567</th>\n",
       "      <td>120.0</td>\n",
       "      <td>Zambia</td>\n",
       "      <td>1</td>\n",
       "    </tr>\n",
       "    <tr>\n",
       "      <th>12568</th>\n",
       "      <td>122.0</td>\n",
       "      <td>Brazil</td>\n",
       "      <td>1</td>\n",
       "    </tr>\n",
       "  </tbody>\n",
       "</table>\n",
       "<p>12569 rows × 3 columns</p>\n",
       "</div>"
      ],
      "text/plain": [
       "       minute         team  goals\n",
       "0         1.0    Argentina      8\n",
       "1         1.0      Uruguay      8\n",
       "2         1.0       Brazil      7\n",
       "3         1.0      England      6\n",
       "4         1.0  Netherlands      6\n",
       "...       ...          ...    ...\n",
       "12564   120.0  South Korea      1\n",
       "12565   120.0       Turkey      1\n",
       "12566   120.0      Ukraine      1\n",
       "12567   120.0       Zambia      1\n",
       "12568   122.0       Brazil      1\n",
       "\n",
       "[12569 rows x 3 columns]"
      ]
     },
     "execution_count": 265,
     "metadata": {},
     "output_type": "execute_result"
    }
   ],
   "source": [
    "top_minute"
   ]
  },
  {
   "cell_type": "code",
   "execution_count": 277,
   "id": "69fcd5ae-52ab-4861-8815-e7a209e59d08",
   "metadata": {},
   "outputs": [],
   "source": [
    "top_minute = top_minute.sort_values(by=\"goals\", ascending=False)"
   ]
  },
  {
   "cell_type": "code",
   "execution_count": 269,
   "id": "530b70c5-8d82-4ea8-91c2-90044287fc74",
   "metadata": {},
   "outputs": [],
   "source": [
    "top_one_minute =  csv_data[csv_data[\"minute\"] == 1]"
   ]
  },
  {
   "cell_type": "code",
   "execution_count": 278,
   "id": "bc811656-ad9e-4332-9f66-26a44d4e4443",
   "metadata": {},
   "outputs": [
    {
     "data": {
      "text/html": [
       "<div>\n",
       "<style scoped>\n",
       "    .dataframe tbody tr th:only-of-type {\n",
       "        vertical-align: middle;\n",
       "    }\n",
       "\n",
       "    .dataframe tbody tr th {\n",
       "        vertical-align: top;\n",
       "    }\n",
       "\n",
       "    .dataframe thead th {\n",
       "        text-align: right;\n",
       "    }\n",
       "</style>\n",
       "<table border=\"1\" class=\"dataframe\">\n",
       "  <thead>\n",
       "    <tr style=\"text-align: right;\">\n",
       "      <th></th>\n",
       "      <th>minute</th>\n",
       "      <th>team</th>\n",
       "      <th>goals</th>\n",
       "    </tr>\n",
       "  </thead>\n",
       "  <tbody>\n",
       "    <tr>\n",
       "      <th>12160</th>\n",
       "      <td>90.0</td>\n",
       "      <td>Portugal</td>\n",
       "      <td>41</td>\n",
       "    </tr>\n",
       "    <tr>\n",
       "      <th>12159</th>\n",
       "      <td>90.0</td>\n",
       "      <td>Netherlands</td>\n",
       "      <td>41</td>\n",
       "    </tr>\n",
       "    <tr>\n",
       "      <th>12161</th>\n",
       "      <td>90.0</td>\n",
       "      <td>Brazil</td>\n",
       "      <td>38</td>\n",
       "    </tr>\n",
       "    <tr>\n",
       "      <th>12162</th>\n",
       "      <td>90.0</td>\n",
       "      <td>Spain</td>\n",
       "      <td>33</td>\n",
       "    </tr>\n",
       "    <tr>\n",
       "      <th>12163</th>\n",
       "      <td>90.0</td>\n",
       "      <td>Mexico</td>\n",
       "      <td>31</td>\n",
       "    </tr>\n",
       "    <tr>\n",
       "      <th>...</th>\n",
       "      <td>...</td>\n",
       "      <td>...</td>\n",
       "      <td>...</td>\n",
       "    </tr>\n",
       "    <tr>\n",
       "      <th>4130</th>\n",
       "      <td>32.0</td>\n",
       "      <td>Uganda</td>\n",
       "      <td>1</td>\n",
       "    </tr>\n",
       "    <tr>\n",
       "      <th>4129</th>\n",
       "      <td>32.0</td>\n",
       "      <td>Trinidad and Tobago</td>\n",
       "      <td>1</td>\n",
       "    </tr>\n",
       "    <tr>\n",
       "      <th>4128</th>\n",
       "      <td>32.0</td>\n",
       "      <td>Togo</td>\n",
       "      <td>1</td>\n",
       "    </tr>\n",
       "    <tr>\n",
       "      <th>9252</th>\n",
       "      <td>69.0</td>\n",
       "      <td>Angola</td>\n",
       "      <td>1</td>\n",
       "    </tr>\n",
       "    <tr>\n",
       "      <th>12568</th>\n",
       "      <td>122.0</td>\n",
       "      <td>Brazil</td>\n",
       "      <td>1</td>\n",
       "    </tr>\n",
       "  </tbody>\n",
       "</table>\n",
       "<p>12569 rows × 3 columns</p>\n",
       "</div>"
      ],
      "text/plain": [
       "       minute                 team  goals\n",
       "12160    90.0             Portugal     41\n",
       "12159    90.0          Netherlands     41\n",
       "12161    90.0               Brazil     38\n",
       "12162    90.0                Spain     33\n",
       "12163    90.0               Mexico     31\n",
       "...       ...                  ...    ...\n",
       "4130     32.0               Uganda      1\n",
       "4129     32.0  Trinidad and Tobago      1\n",
       "4128     32.0                 Togo      1\n",
       "9252     69.0               Angola      1\n",
       "12568   122.0               Brazil      1\n",
       "\n",
       "[12569 rows x 3 columns]"
      ]
     },
     "execution_count": 278,
     "metadata": {},
     "output_type": "execute_result"
    }
   ],
   "source": [
    "top_minute"
   ]
  },
  {
   "cell_type": "code",
   "execution_count": null,
   "id": "edcf0ff7-7ca6-44bc-9a80-0803ff60a82d",
   "metadata": {},
   "outputs": [],
   "source": []
  },
  {
   "cell_type": "code",
   "execution_count": 280,
   "id": "63f21235-3011-4e7d-ba0e-cc3eae0264e7",
   "metadata": {},
   "outputs": [
    {
     "data": {
      "image/png": "[encoded data removed]",
      "text/plain": [
       "<Figure size 1200x600 with 1 Axes>"
      ]
     },
     "metadata": {},
     "output_type": "display_data"
    }
   ],
   "source": [
    "plt.figure(figsize=(12,6))\n",
    "sns.barplot(data=top_minute.head(10), x=\"minute\", y=\"goals\", hue=\"team\")\n",
    "plt.xticks(rotation=90)\n",
    "plt.xlabel(\"Date\")\n",
    "plt.ylabel(\"Goals\")\n",
    "plt.title(\"Goals by minute\")\n",
    "plt.legend(title=\"Top goals in a minute\")\n",
    "plt.show()"
   ]
  },
  {
   "cell_type": "markdown",
   "id": "9c544f28-727f-4f6f-ad1c-2c45441f824b",
   "metadata": {},
   "source": [
    "# **GOALS IN MINUTES**"
   ]
  },
  {
   "cell_type": "code",
   "execution_count": 283,
   "id": "0918c8ef-0c2f-494b-bcd2-d14c43b6088e",
   "metadata": {},
   "outputs": [],
   "source": [
    "minutes_goal = top_minute.groupby('minute')['goals'].value_counts()"
   ]
  },
  {
   "cell_type": "code",
   "execution_count": null,
   "id": "7ff8aaf8-8efe-4f05-9dc5-9d07529a57d2",
   "metadata": {},
   "outputs": [],
   "source": [
    "date_goals = csv_data.groupby(\"date\")[\"team\"].value_counts()"
   ]
  },
  {
   "cell_type": "code",
   "execution_count": 284,
   "id": "b946474a-586d-4546-ba94-1909ae73a754",
   "metadata": {},
   "outputs": [
    {
     "data": {
      "text/plain": [
       "minute  goals\n",
       "1.0     1        51\n",
       "        2        21\n",
       "        3        11\n",
       "        4         6\n",
       "        5         3\n",
       "                 ..\n",
       "118.0   2         1\n",
       "119.0   1         7\n",
       "        2         1\n",
       "120.0   1        12\n",
       "122.0   1         1\n",
       "Name: count, Length: 1216, dtype: int64"
      ]
     },
     "execution_count": 284,
     "metadata": {},
     "output_type": "execute_result"
    }
   ],
   "source": [
    "minutes_goal"
   ]
  }
 ],
 "metadata": {
  "kernelspec": {
   "display_name": "Python 3 (ipykernel)",
   "language": "python",
   "name": "python3"
  },
  "language_info": {
   "codemirror_mode": {
    "name": "ipython",
    "version": 3
   },
   "file_extension": ".py",
   "mimetype": "text/x-python",
   "name": "python",
   "nbconvert_exporter": "python",
   "pygments_lexer": "ipython3",
   "version": "3.12.7"
  }
 },
 "nbformat": 4,
 "nbformat_minor": 5
}
